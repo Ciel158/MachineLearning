{
 "cells": [
  {
   "cell_type": "code",
   "execution_count": 1,
   "id": "b62d95ab-dc60-4fae-9dc2-540a21176a94",
   "metadata": {},
   "outputs": [
    {
     "name": "stdout",
     "output_type": "stream",
     "text": [
      "0    1\n",
      "1    3\n",
      "2    5\n",
      "3    7\n",
      "4    9\n",
      "dtype: int64\n",
      "5\n",
      "a    1\n",
      "b    3\n",
      "c    5\n",
      "dtype: int64\n",
      "3\n",
      "LGT    1\n",
      "DOO    3\n",
      "HWE    5\n",
      "LOT    7\n",
      "dtype: int64\n",
      "<class 'dict'> {'LGT': 1, 'DOO': 3, 'HWE': 5, 'LOT': 7, 'SKW': 9}\n"
     ]
    }
   ],
   "source": [
    "'''numpy>차원이 다양한 대신 내부 데이터 타입은 같다고 가정, Pandas>차원이 2차원(table), 내부 데이터 타입은 다양 \n",
    "2차원 테이블> 열:데이터 타입에 대한 설명 행:각 값을 구분\n",
    "다음과 같이 import해서 쓴다.\n",
    "'''\n",
    "import pandas as pd\n",
    "\n",
    "#Series: 인덱스(index)가 있는 1차원 배열\n",
    "s = pd.Series([1, 3, 5, 7, 9])\n",
    "print(s)\n",
    "print(s[2]) #indexing >앞의 값, 인덱스 자동 생성\n",
    "\n",
    "# dictionary를 이용해 만들기\n",
    "dic = {'a':1, 'b':3, 'c':5}\n",
    "s = pd.Series(dic)\n",
    "print(s)\n",
    "print(s['b']) #indexing\n",
    "\n",
    "#dic이랑 series가 비슷함\n",
    "\n",
    "#딕셔너리와 다른 점: 순서가 있다!\n",
    "s = pd.Series([1,3,5,7,9], index=['LGT','DOO','HWE','LOT','SKW'])\n",
    "#print(s)\n",
    "#print(s['LOT'])\n",
    "print(s[:'LOT']) # 슬라이싱에서 어디까지 나오는지 주목\n",
    "\n",
    "# 시리즈를 딕셔너리로 변환\n",
    "d = s.to_dict()\n",
    "print(type(d), d)"
   ]
  },
  {
   "cell_type": "code",
   "execution_count": null,
   "id": "5b7323b2-255d-4554-a460-be1102c70a3f",
   "metadata": {},
   "outputs": [],
   "source": [
    "'''데이터 프레임은 우리에게 친숙한 2차원 표와 같은 형태로 생각하면 된다.\n",
    "행(row)과 열(column)으로 이루어져 있으며, 각 열에는 name이 있고 행에는 index가 있다.'''\n",
    "\n",
    "score={'학번':[201700013,201600023,201600033],\n",
    "       '이름':['변사또','이몽룡','성춘향'],\n",
    "       '퀴즈':[15,20,10],\n",
    "       '중간고사':[20,20,15]}\n",
    "\n",
    "score_df= pd.DataFrame(score) #여러 개의 dic을 data frame으로 바꿈 \n",
    "score_df\n",
    "\n",
    "#행>index 열>col name // series로 뜯으면 행>index가 index // col>colname이 index \n",
    "\n",
    "print(type(score_df['학번'])) #colname을 키로 받음\n",
    "score_df['학번'] #series로 뜯어온 거\n",
    "#score_df[['학번']] #data frame으로 뜯어온 거\n",
    "#>> 타입이 다름 print(type(score_df[['학번']]))\n",
    "\n",
    "#score_df[0] #key 오류 / colname이 default \n",
    "#score_df[['학번','Quiz']] 여러값을 원하면 리스트에 넣고 요청해야함 "
   ]
  },
  {
   "cell_type": "code",
   "execution_count": null,
   "id": "118583dd-f4f3-4f54-9f3d-34eef7c88eff",
   "metadata": {},
   "outputs": [],
   "source": [
    "'''행 추가하기\n",
    "loc를 이용해서 추가가 가능\n",
    "단 행의 인덱스가 0부터 시작해서 순차적으로 더해진 경우에 아래와 같이 할 수 있음 append 지원안함 comcat'''\n",
    "print(len(score_df))\n",
    "score_df.loc[len(score_df)] = [201700002, '이몽룡', 17, 17]\n",
    "score_df"
   ]
  },
  {
   "cell_type": "code",
   "execution_count": 27,
   "id": "c540dba0-ee9e-40a2-81ab-503c3dbe946a",
   "metadata": {},
   "outputs": [],
   "source": [
    "df = pd.read_csv('RegularSeasonCompactResults.csv') #옵션이 여러 개 "
   ]
  },
  {
   "cell_type": "code",
   "execution_count": 23,
   "id": "3dd1299a-bd8b-4075-85d7-11c535cc4df6",
   "metadata": {},
   "outputs": [
    {
     "data": {
      "text/html": [
       "<div>\n",
       "<style scoped>\n",
       "    .dataframe tbody tr th:only-of-type {\n",
       "        vertical-align: middle;\n",
       "    }\n",
       "\n",
       "    .dataframe tbody tr th {\n",
       "        vertical-align: top;\n",
       "    }\n",
       "\n",
       "    .dataframe thead th {\n",
       "        text-align: right;\n",
       "    }\n",
       "</style>\n",
       "<table border=\"1\" class=\"dataframe\">\n",
       "  <thead>\n",
       "    <tr style=\"text-align: right;\">\n",
       "      <th></th>\n",
       "      <th>Season</th>\n",
       "      <th>DayNum</th>\n",
       "      <th>WTeamID</th>\n",
       "      <th>WScore</th>\n",
       "      <th>LTeamID</th>\n",
       "      <th>LScore</th>\n",
       "      <th>WLoc</th>\n",
       "      <th>NumOT</th>\n",
       "    </tr>\n",
       "  </thead>\n",
       "  <tbody>\n",
       "    <tr>\n",
       "      <th>0</th>\n",
       "      <td>1985</td>\n",
       "      <td>20</td>\n",
       "      <td>1228</td>\n",
       "      <td>81</td>\n",
       "      <td>1328</td>\n",
       "      <td>64</td>\n",
       "      <td>N</td>\n",
       "      <td>0</td>\n",
       "    </tr>\n",
       "    <tr>\n",
       "      <th>1</th>\n",
       "      <td>1985</td>\n",
       "      <td>25</td>\n",
       "      <td>1106</td>\n",
       "      <td>77</td>\n",
       "      <td>1354</td>\n",
       "      <td>70</td>\n",
       "      <td>H</td>\n",
       "      <td>0</td>\n",
       "    </tr>\n",
       "    <tr>\n",
       "      <th>2</th>\n",
       "      <td>1985</td>\n",
       "      <td>25</td>\n",
       "      <td>1112</td>\n",
       "      <td>63</td>\n",
       "      <td>1223</td>\n",
       "      <td>56</td>\n",
       "      <td>H</td>\n",
       "      <td>0</td>\n",
       "    </tr>\n",
       "    <tr>\n",
       "      <th>3</th>\n",
       "      <td>1985</td>\n",
       "      <td>25</td>\n",
       "      <td>1165</td>\n",
       "      <td>70</td>\n",
       "      <td>1432</td>\n",
       "      <td>54</td>\n",
       "      <td>H</td>\n",
       "      <td>0</td>\n",
       "    </tr>\n",
       "    <tr>\n",
       "      <th>4</th>\n",
       "      <td>1985</td>\n",
       "      <td>25</td>\n",
       "      <td>1192</td>\n",
       "      <td>86</td>\n",
       "      <td>1447</td>\n",
       "      <td>74</td>\n",
       "      <td>H</td>\n",
       "      <td>0</td>\n",
       "    </tr>\n",
       "    <tr>\n",
       "      <th>5</th>\n",
       "      <td>1985</td>\n",
       "      <td>25</td>\n",
       "      <td>1218</td>\n",
       "      <td>79</td>\n",
       "      <td>1337</td>\n",
       "      <td>78</td>\n",
       "      <td>H</td>\n",
       "      <td>0</td>\n",
       "    </tr>\n",
       "    <tr>\n",
       "      <th>6</th>\n",
       "      <td>1985</td>\n",
       "      <td>25</td>\n",
       "      <td>1228</td>\n",
       "      <td>64</td>\n",
       "      <td>1226</td>\n",
       "      <td>44</td>\n",
       "      <td>N</td>\n",
       "      <td>0</td>\n",
       "    </tr>\n",
       "    <tr>\n",
       "      <th>7</th>\n",
       "      <td>1985</td>\n",
       "      <td>25</td>\n",
       "      <td>1242</td>\n",
       "      <td>58</td>\n",
       "      <td>1268</td>\n",
       "      <td>56</td>\n",
       "      <td>N</td>\n",
       "      <td>0</td>\n",
       "    </tr>\n",
       "    <tr>\n",
       "      <th>8</th>\n",
       "      <td>1985</td>\n",
       "      <td>25</td>\n",
       "      <td>1260</td>\n",
       "      <td>98</td>\n",
       "      <td>1133</td>\n",
       "      <td>80</td>\n",
       "      <td>H</td>\n",
       "      <td>0</td>\n",
       "    </tr>\n",
       "    <tr>\n",
       "      <th>9</th>\n",
       "      <td>1985</td>\n",
       "      <td>25</td>\n",
       "      <td>1305</td>\n",
       "      <td>97</td>\n",
       "      <td>1424</td>\n",
       "      <td>89</td>\n",
       "      <td>H</td>\n",
       "      <td>0</td>\n",
       "    </tr>\n",
       "  </tbody>\n",
       "</table>\n",
       "</div>"
      ],
      "text/plain": [
       "   Season  DayNum  WTeamID  WScore  LTeamID  LScore WLoc  NumOT\n",
       "0    1985      20     1228      81     1328      64    N      0\n",
       "1    1985      25     1106      77     1354      70    H      0\n",
       "2    1985      25     1112      63     1223      56    H      0\n",
       "3    1985      25     1165      70     1432      54    H      0\n",
       "4    1985      25     1192      86     1447      74    H      0\n",
       "5    1985      25     1218      79     1337      78    H      0\n",
       "6    1985      25     1228      64     1226      44    N      0\n",
       "7    1985      25     1242      58     1268      56    N      0\n",
       "8    1985      25     1260      98     1133      80    H      0\n",
       "9    1985      25     1305      97     1424      89    H      0"
      ]
     },
     "execution_count": 23,
     "metadata": {},
     "output_type": "execute_result"
    }
   ],
   "source": [
    "df.head() #앞에 5개 (x) x원하는 갯수"
   ]
  },
  {
   "cell_type": "code",
   "execution_count": 17,
   "id": "22b834d5-99fe-496e-aa90-676720fcf24b",
   "metadata": {},
   "outputs": [
    {
     "data": {
      "text/html": [
       "<div>\n",
       "<style scoped>\n",
       "    .dataframe tbody tr th:only-of-type {\n",
       "        vertical-align: middle;\n",
       "    }\n",
       "\n",
       "    .dataframe tbody tr th {\n",
       "        vertical-align: top;\n",
       "    }\n",
       "\n",
       "    .dataframe thead th {\n",
       "        text-align: right;\n",
       "    }\n",
       "</style>\n",
       "<table border=\"1\" class=\"dataframe\">\n",
       "  <thead>\n",
       "    <tr style=\"text-align: right;\">\n",
       "      <th></th>\n",
       "      <th>Season</th>\n",
       "      <th>DayNum</th>\n",
       "      <th>WTeamID</th>\n",
       "      <th>WScore</th>\n",
       "      <th>LTeamID</th>\n",
       "      <th>LScore</th>\n",
       "      <th>WLoc</th>\n",
       "      <th>NumOT</th>\n",
       "    </tr>\n",
       "  </thead>\n",
       "  <tbody>\n",
       "    <tr>\n",
       "      <th>161547</th>\n",
       "      <td>2019</td>\n",
       "      <td>132</td>\n",
       "      <td>1153</td>\n",
       "      <td>69</td>\n",
       "      <td>1222</td>\n",
       "      <td>57</td>\n",
       "      <td>N</td>\n",
       "      <td>0</td>\n",
       "    </tr>\n",
       "    <tr>\n",
       "      <th>161548</th>\n",
       "      <td>2019</td>\n",
       "      <td>132</td>\n",
       "      <td>1209</td>\n",
       "      <td>73</td>\n",
       "      <td>1426</td>\n",
       "      <td>64</td>\n",
       "      <td>N</td>\n",
       "      <td>0</td>\n",
       "    </tr>\n",
       "    <tr>\n",
       "      <th>161549</th>\n",
       "      <td>2019</td>\n",
       "      <td>132</td>\n",
       "      <td>1277</td>\n",
       "      <td>65</td>\n",
       "      <td>1276</td>\n",
       "      <td>60</td>\n",
       "      <td>N</td>\n",
       "      <td>0</td>\n",
       "    </tr>\n",
       "    <tr>\n",
       "      <th>161550</th>\n",
       "      <td>2019</td>\n",
       "      <td>132</td>\n",
       "      <td>1387</td>\n",
       "      <td>55</td>\n",
       "      <td>1382</td>\n",
       "      <td>53</td>\n",
       "      <td>N</td>\n",
       "      <td>0</td>\n",
       "    </tr>\n",
       "    <tr>\n",
       "      <th>161551</th>\n",
       "      <td>2019</td>\n",
       "      <td>132</td>\n",
       "      <td>1463</td>\n",
       "      <td>97</td>\n",
       "      <td>1217</td>\n",
       "      <td>85</td>\n",
       "      <td>H</td>\n",
       "      <td>0</td>\n",
       "    </tr>\n",
       "  </tbody>\n",
       "</table>\n",
       "</div>"
      ],
      "text/plain": [
       "        Season  DayNum  WTeamID  WScore  LTeamID  LScore WLoc  NumOT\n",
       "161547    2019     132     1153      69     1222      57    N      0\n",
       "161548    2019     132     1209      73     1426      64    N      0\n",
       "161549    2019     132     1277      65     1276      60    N      0\n",
       "161550    2019     132     1387      55     1382      53    N      0\n",
       "161551    2019     132     1463      97     1217      85    H      0"
      ]
     },
     "execution_count": 17,
     "metadata": {},
     "output_type": "execute_result"
    }
   ],
   "source": [
    "df.tail() #뒤에 5개 "
   ]
  },
  {
   "cell_type": "code",
   "execution_count": 21,
   "id": "de445569-5b81-4e25-8a40-b75fd8b2b0fc",
   "metadata": {},
   "outputs": [
    {
     "data": {
      "text/plain": [
       "(161552, 8)"
      ]
     },
     "execution_count": 21,
     "metadata": {},
     "output_type": "execute_result"
    }
   ],
   "source": [
    "df.shape #행,열 수\n",
    "df.columns #pandas에서 관리하는 인덱스들의 리스트 index에 담겨 있음 \n",
    "df.columns.tolist() #index를 벗긴 리스트"
   ]
  },
  {
   "cell_type": "code",
   "execution_count": 25,
   "id": "44d59a38-3a7e-4952-9ffc-b11a15695ca7",
   "metadata": {},
   "outputs": [
    {
     "data": {
      "text/html": [
       "<div>\n",
       "<style scoped>\n",
       "    .dataframe tbody tr th:only-of-type {\n",
       "        vertical-align: middle;\n",
       "    }\n",
       "\n",
       "    .dataframe tbody tr th {\n",
       "        vertical-align: top;\n",
       "    }\n",
       "\n",
       "    .dataframe thead th {\n",
       "        text-align: right;\n",
       "    }\n",
       "</style>\n",
       "<table border=\"1\" class=\"dataframe\">\n",
       "  <thead>\n",
       "    <tr style=\"text-align: right;\">\n",
       "      <th></th>\n",
       "      <th>Season</th>\n",
       "      <th>DayNum</th>\n",
       "      <th>WTeamID</th>\n",
       "      <th>WScore</th>\n",
       "      <th>LTeamID</th>\n",
       "      <th>LScore</th>\n",
       "      <th>NumOT</th>\n",
       "    </tr>\n",
       "  </thead>\n",
       "  <tbody>\n",
       "    <tr>\n",
       "      <th>count</th>\n",
       "      <td>161552.000000</td>\n",
       "      <td>161552.000000</td>\n",
       "      <td>161552.000000</td>\n",
       "      <td>161552.000000</td>\n",
       "      <td>161552.000000</td>\n",
       "      <td>161552.000000</td>\n",
       "      <td>161552.000000</td>\n",
       "    </tr>\n",
       "    <tr>\n",
       "      <th>mean</th>\n",
       "      <td>2003.228731</td>\n",
       "      <td>74.665359</td>\n",
       "      <td>1286.919004</td>\n",
       "      <td>76.795125</td>\n",
       "      <td>1282.637498</td>\n",
       "      <td>64.692526</td>\n",
       "      <td>0.045137</td>\n",
       "    </tr>\n",
       "    <tr>\n",
       "      <th>std</th>\n",
       "      <td>10.058660</td>\n",
       "      <td>33.670352</td>\n",
       "      <td>104.521630</td>\n",
       "      <td>12.066260</td>\n",
       "      <td>104.742961</td>\n",
       "      <td>11.349610</td>\n",
       "      <td>0.249751</td>\n",
       "    </tr>\n",
       "    <tr>\n",
       "      <th>min</th>\n",
       "      <td>1985.000000</td>\n",
       "      <td>0.000000</td>\n",
       "      <td>1101.000000</td>\n",
       "      <td>34.000000</td>\n",
       "      <td>1101.000000</td>\n",
       "      <td>20.000000</td>\n",
       "      <td>0.000000</td>\n",
       "    </tr>\n",
       "    <tr>\n",
       "      <th>25%</th>\n",
       "      <td>1995.000000</td>\n",
       "      <td>47.000000</td>\n",
       "      <td>1198.000000</td>\n",
       "      <td>69.000000</td>\n",
       "      <td>1191.000000</td>\n",
       "      <td>57.000000</td>\n",
       "      <td>0.000000</td>\n",
       "    </tr>\n",
       "    <tr>\n",
       "      <th>50%</th>\n",
       "      <td>2004.000000</td>\n",
       "      <td>77.000000</td>\n",
       "      <td>1284.000000</td>\n",
       "      <td>76.000000</td>\n",
       "      <td>1280.000000</td>\n",
       "      <td>64.000000</td>\n",
       "      <td>0.000000</td>\n",
       "    </tr>\n",
       "    <tr>\n",
       "      <th>75%</th>\n",
       "      <td>2012.000000</td>\n",
       "      <td>103.000000</td>\n",
       "      <td>1380.000000</td>\n",
       "      <td>84.000000</td>\n",
       "      <td>1375.000000</td>\n",
       "      <td>72.000000</td>\n",
       "      <td>0.000000</td>\n",
       "    </tr>\n",
       "    <tr>\n",
       "      <th>max</th>\n",
       "      <td>2019.000000</td>\n",
       "      <td>132.000000</td>\n",
       "      <td>1466.000000</td>\n",
       "      <td>186.000000</td>\n",
       "      <td>1466.000000</td>\n",
       "      <td>150.000000</td>\n",
       "      <td>6.000000</td>\n",
       "    </tr>\n",
       "  </tbody>\n",
       "</table>\n",
       "</div>"
      ],
      "text/plain": [
       "              Season         DayNum        WTeamID         WScore  \\\n",
       "count  161552.000000  161552.000000  161552.000000  161552.000000   \n",
       "mean     2003.228731      74.665359    1286.919004      76.795125   \n",
       "std        10.058660      33.670352     104.521630      12.066260   \n",
       "min      1985.000000       0.000000    1101.000000      34.000000   \n",
       "25%      1995.000000      47.000000    1198.000000      69.000000   \n",
       "50%      2004.000000      77.000000    1284.000000      76.000000   \n",
       "75%      2012.000000     103.000000    1380.000000      84.000000   \n",
       "max      2019.000000     132.000000    1466.000000     186.000000   \n",
       "\n",
       "             LTeamID         LScore          NumOT  \n",
       "count  161552.000000  161552.000000  161552.000000  \n",
       "mean     1282.637498      64.692526       0.045137  \n",
       "std       104.742961      11.349610       0.249751  \n",
       "min      1101.000000      20.000000       0.000000  \n",
       "25%      1191.000000      57.000000       0.000000  \n",
       "50%      1280.000000      64.000000       0.000000  \n",
       "75%      1375.000000      72.000000       0.000000  \n",
       "max      1466.000000     150.000000       6.000000  "
      ]
     },
     "execution_count": 25,
     "metadata": {},
     "output_type": "execute_result"
    }
   ],
   "source": [
    "df.describe() #통계\n",
    "#aggregation Numpy > 전체에서 값 1개 Pandas > col별로 1개씩 "
   ]
  },
  {
   "cell_type": "code",
   "execution_count": 31,
   "id": "714ac335-520c-4196-83e2-772ff48ab7f2",
   "metadata": {},
   "outputs": [
    {
     "data": {
      "text/plain": [
       "64.69252624541943"
      ]
     },
     "execution_count": 31,
     "metadata": {},
     "output_type": "execute_result"
    }
   ],
   "source": [
    "df.max() #최대값\n",
    "df['WScore'].max() #특정 열의 최대 값 \n"
   ]
  },
  {
   "cell_type": "code",
   "execution_count": null,
   "id": "66ac7f9d-4e5d-493c-a9b7-09f30bc707d2",
   "metadata": {},
   "outputs": [],
   "source": [
    "df['LScore'].mean() #특정 열의 평균 값"
   ]
  },
  {
   "cell_type": "code",
   "execution_count": 127,
   "id": "56bcc500-cfca-4eaf-9f72-b62b96d44e37",
   "metadata": {},
   "outputs": [
    {
     "data": {
      "text/plain": [
       "24970"
      ]
     },
     "execution_count": 127,
     "metadata": {},
     "output_type": "execute_result"
    }
   ],
   "source": [
    "df['WScore'].argmax() #특정 열의 최대인 행의 위치(index)\n",
    "#향후에는 argmax 대신 idxmax를 쓰도록 친절하게 권장하므로 이후부터는 idxmax로 고쳐서 쓴다."
   ]
  },
  {
   "cell_type": "code",
   "execution_count": 33,
   "id": "aa687ba3-5c16-4526-a63a-0360f2f98515",
   "metadata": {},
   "outputs": [
    {
     "data": {
      "text/plain": [
       "Season     1991\n",
       "DayNum       68\n",
       "WTeamID    1258\n",
       "WScore      186\n",
       "LTeamID    1109\n",
       "LScore      140\n",
       "WLoc          H\n",
       "NumOT         0\n",
       "Name: 24970, dtype: object"
      ]
     },
     "execution_count": 33,
     "metadata": {},
     "output_type": "execute_result"
    }
   ],
   "source": [
    "df.loc[24970] #행에 대한 인덱싱 "
   ]
  },
  {
   "cell_type": "code",
   "execution_count": 35,
   "id": "878fda84-110c-4d37-bbbd-dba2411468ac",
   "metadata": {},
   "outputs": [
    {
     "data": {
      "text/plain": [
       "WLoc\n",
       "H    95878\n",
       "A    49260\n",
       "N    16414\n",
       "Name: count, dtype: int64"
      ]
     },
     "execution_count": 35,
     "metadata": {},
     "output_type": "execute_result"
    }
   ],
   "source": [
    "df['WLoc'].value_counts() #특정 열에 사용된 값 횟수 "
   ]
  },
  {
   "cell_type": "code",
   "execution_count": null,
   "id": "b9f83f07-87bc-4c35-badc-7c244e08c9cc",
   "metadata": {},
   "outputs": [],
   "source": [
    "df.info() #col별 정보 "
   ]
  },
  {
   "cell_type": "code",
   "execution_count": null,
   "id": "745c5ee6-7f59-4c39-a624-487a76ce773b",
   "metadata": {},
   "outputs": [],
   "source": [
    "Wscore = df['Wscore'] #열을 기준으로 인덱싱을 하면 특정 열의 값만을 추출\n",
    "Wscore.head() #갯수가 너무 많으므로 뒤에 head()함수를 써서 앞부분만 추출"
   ]
  },
  {
   "cell_type": "code",
   "execution_count": 37,
   "id": "dbcfe9cf-60b0-43da-8a60-da70d558610f",
   "metadata": {},
   "outputs": [
    {
     "data": {
      "text/plain": [
       "24970"
      ]
     },
     "execution_count": 37,
     "metadata": {},
     "output_type": "execute_result"
    }
   ],
   "source": [
    "df['WScore'].idxmax()\n",
    "#argmax(),iloc vs idxmax(),loc \n",
    "#position(location) vs index\n",
    "#arg VS idx https://stackoverflow.com/questions/47596390/can-i-use-idxmax-instead-of-argmax-in-all-cases\n",
    "#iloc vs loc https://stackoverflow.com/questions/31593201/how-are-iloc-and-loc-different"
   ]
  },
  {
   "cell_type": "code",
   "execution_count": 135,
   "id": "c696df45-e738-43a4-8f15-1dc577ccea6a",
   "metadata": {},
   "outputs": [],
   "source": [
    "biggest=df['WScore'].idxmax() #가장 큰 값 집어넣기 "
   ]
  },
  {
   "cell_type": "code",
   "execution_count": 133,
   "id": "33374c71-bb1f-4522-a741-5d200106484f",
   "metadata": {},
   "outputs": [
    {
     "data": {
      "text/plain": [
       "Season     1991\n",
       "DayNum       68\n",
       "WTeamID    1258\n",
       "WScore      186\n",
       "LTeamID    1109\n",
       "LScore      140\n",
       "WLoc          H\n",
       "NumOT         0\n",
       "Name: 24970, dtype: object"
      ]
     },
     "execution_count": 133,
     "metadata": {},
     "output_type": "execute_result"
    }
   ],
   "source": [
    "df.loc[df['WScore'].idxmax()] #loc안에 idxmax집어 넣기 "
   ]
  },
  {
   "cell_type": "code",
   "execution_count": 9,
   "id": "159056ea-9b53-4f8d-af70-606adb2b8f82",
   "metadata": {},
   "outputs": [
    {
     "data": {
      "text/html": [
       "<div>\n",
       "<style scoped>\n",
       "    .dataframe tbody tr th:only-of-type {\n",
       "        vertical-align: middle;\n",
       "    }\n",
       "\n",
       "    .dataframe tbody tr th {\n",
       "        vertical-align: top;\n",
       "    }\n",
       "\n",
       "    .dataframe thead th {\n",
       "        text-align: right;\n",
       "    }\n",
       "</style>\n",
       "<table border=\"1\" class=\"dataframe\">\n",
       "  <thead>\n",
       "    <tr style=\"text-align: right;\">\n",
       "      <th></th>\n",
       "      <th>Name</th>\n",
       "      <th>Age</th>\n",
       "      <th>Score</th>\n",
       "    </tr>\n",
       "  </thead>\n",
       "  <tbody>\n",
       "    <tr>\n",
       "      <th>1</th>\n",
       "      <td>Bobby</td>\n",
       "      <td>27</td>\n",
       "      <td>87</td>\n",
       "    </tr>\n",
       "    <tr>\n",
       "      <th>4</th>\n",
       "      <td>Rocky</td>\n",
       "      <td>31</td>\n",
       "      <td>55</td>\n",
       "    </tr>\n",
       "    <tr>\n",
       "      <th>6</th>\n",
       "      <td>Jaqluine</td>\n",
       "      <td>25</td>\n",
       "      <td>76</td>\n",
       "    </tr>\n",
       "  </tbody>\n",
       "</table>\n",
       "</div>"
      ],
      "text/plain": [
       "       Name  Age  Score\n",
       "1     Bobby   27     87\n",
       "4     Rocky   31     55\n",
       "6  Jaqluine   25     76"
      ]
     },
     "execution_count": 9,
     "metadata": {},
     "output_type": "execute_result"
    }
   ],
   "source": [
    "a = {\n",
    "    'Name':['Alisa','Bobby','Cathrine','Madonna','Rocky','Sebastian','Jaqluine',\n",
    "   'Rahul','David','Andrew','Ajay','Teresa'],\n",
    "   'Age':[26,27,25,34,31,27,25,33,42,32,51,47],\n",
    "   'Score':[89,87,67,55,55,72,76,79,44,92,89,69]}\n",
    " \n",
    "af = pd.DataFrame(a)\n",
    "af\n",
    "\n",
    "af=af.reindex([1,4,6,2,3,5,9,8,0,7,11,10]) #인덱스 재정렬 (명시적 인덱스)\n",
    "af\n",
    "#Pandas에는 순차 인덱스를 제공함 \n",
    "af.loc[:6] #6개가 아니라 3개만 나옴 또한 6인 애가 포함이 됨 ,문자열 index 사용가능 "
   ]
  },
  {
   "cell_type": "code",
   "execution_count": 11,
   "id": "7f87bbdd-b19f-4de5-8cb3-e1de4be58c72",
   "metadata": {},
   "outputs": [
    {
     "data": {
      "text/html": [
       "<div>\n",
       "<style scoped>\n",
       "    .dataframe tbody tr th:only-of-type {\n",
       "        vertical-align: middle;\n",
       "    }\n",
       "\n",
       "    .dataframe tbody tr th {\n",
       "        vertical-align: top;\n",
       "    }\n",
       "\n",
       "    .dataframe thead th {\n",
       "        text-align: right;\n",
       "    }\n",
       "</style>\n",
       "<table border=\"1\" class=\"dataframe\">\n",
       "  <thead>\n",
       "    <tr style=\"text-align: right;\">\n",
       "      <th></th>\n",
       "      <th>Name</th>\n",
       "      <th>Age</th>\n",
       "      <th>Score</th>\n",
       "    </tr>\n",
       "  </thead>\n",
       "  <tbody>\n",
       "    <tr>\n",
       "      <th>1</th>\n",
       "      <td>Bobby</td>\n",
       "      <td>27</td>\n",
       "      <td>87</td>\n",
       "    </tr>\n",
       "    <tr>\n",
       "      <th>4</th>\n",
       "      <td>Rocky</td>\n",
       "      <td>31</td>\n",
       "      <td>55</td>\n",
       "    </tr>\n",
       "    <tr>\n",
       "      <th>6</th>\n",
       "      <td>Jaqluine</td>\n",
       "      <td>25</td>\n",
       "      <td>76</td>\n",
       "    </tr>\n",
       "    <tr>\n",
       "      <th>2</th>\n",
       "      <td>Cathrine</td>\n",
       "      <td>25</td>\n",
       "      <td>67</td>\n",
       "    </tr>\n",
       "    <tr>\n",
       "      <th>3</th>\n",
       "      <td>Madonna</td>\n",
       "      <td>34</td>\n",
       "      <td>55</td>\n",
       "    </tr>\n",
       "    <tr>\n",
       "      <th>5</th>\n",
       "      <td>Sebastian</td>\n",
       "      <td>27</td>\n",
       "      <td>72</td>\n",
       "    </tr>\n",
       "    <tr>\n",
       "      <th>9</th>\n",
       "      <td>Andrew</td>\n",
       "      <td>32</td>\n",
       "      <td>92</td>\n",
       "    </tr>\n",
       "    <tr>\n",
       "      <th>8</th>\n",
       "      <td>David</td>\n",
       "      <td>42</td>\n",
       "      <td>44</td>\n",
       "    </tr>\n",
       "    <tr>\n",
       "      <th>0</th>\n",
       "      <td>Alisa</td>\n",
       "      <td>26</td>\n",
       "      <td>89</td>\n",
       "    </tr>\n",
       "    <tr>\n",
       "      <th>7</th>\n",
       "      <td>Rahul</td>\n",
       "      <td>33</td>\n",
       "      <td>79</td>\n",
       "    </tr>\n",
       "    <tr>\n",
       "      <th>11</th>\n",
       "      <td>Teresa</td>\n",
       "      <td>47</td>\n",
       "      <td>69</td>\n",
       "    </tr>\n",
       "    <tr>\n",
       "      <th>10</th>\n",
       "      <td>Ajay</td>\n",
       "      <td>51</td>\n",
       "      <td>89</td>\n",
       "    </tr>\n",
       "  </tbody>\n",
       "</table>\n",
       "</div>"
      ],
      "text/plain": [
       "         Name  Age  Score\n",
       "1       Bobby   27     87\n",
       "4       Rocky   31     55\n",
       "6    Jaqluine   25     76\n",
       "2    Cathrine   25     67\n",
       "3     Madonna   34     55\n",
       "5   Sebastian   27     72\n",
       "9      Andrew   32     92\n",
       "8       David   42     44\n",
       "0       Alisa   26     89\n",
       "7       Rahul   33     79\n",
       "11     Teresa   47     69\n",
       "10       Ajay   51     89"
      ]
     },
     "execution_count": 11,
     "metadata": {},
     "output_type": "execute_result"
    }
   ],
   "source": [
    "af"
   ]
  },
  {
   "cell_type": "code",
   "execution_count": 111,
   "id": "a1de1383-1bbd-4891-802b-b5411f433c7a",
   "metadata": {},
   "outputs": [
    {
     "data": {
      "text/html": [
       "<div>\n",
       "<style scoped>\n",
       "    .dataframe tbody tr th:only-of-type {\n",
       "        vertical-align: middle;\n",
       "    }\n",
       "\n",
       "    .dataframe tbody tr th {\n",
       "        vertical-align: top;\n",
       "    }\n",
       "\n",
       "    .dataframe thead th {\n",
       "        text-align: right;\n",
       "    }\n",
       "</style>\n",
       "<table border=\"1\" class=\"dataframe\">\n",
       "  <thead>\n",
       "    <tr style=\"text-align: right;\">\n",
       "      <th></th>\n",
       "      <th>Name</th>\n",
       "      <th>Age</th>\n",
       "      <th>Score</th>\n",
       "    </tr>\n",
       "  </thead>\n",
       "  <tbody>\n",
       "    <tr>\n",
       "      <th>1</th>\n",
       "      <td>Bobby</td>\n",
       "      <td>27</td>\n",
       "      <td>87</td>\n",
       "    </tr>\n",
       "    <tr>\n",
       "      <th>4</th>\n",
       "      <td>Rocky</td>\n",
       "      <td>31</td>\n",
       "      <td>55</td>\n",
       "    </tr>\n",
       "    <tr>\n",
       "      <th>6</th>\n",
       "      <td>Jaqluine</td>\n",
       "      <td>25</td>\n",
       "      <td>76</td>\n",
       "    </tr>\n",
       "    <tr>\n",
       "      <th>2</th>\n",
       "      <td>Cathrine</td>\n",
       "      <td>25</td>\n",
       "      <td>67</td>\n",
       "    </tr>\n",
       "    <tr>\n",
       "      <th>3</th>\n",
       "      <td>Madonna</td>\n",
       "      <td>34</td>\n",
       "      <td>55</td>\n",
       "    </tr>\n",
       "    <tr>\n",
       "      <th>5</th>\n",
       "      <td>Sebastian</td>\n",
       "      <td>27</td>\n",
       "      <td>72</td>\n",
       "    </tr>\n",
       "  </tbody>\n",
       "</table>\n",
       "</div>"
      ],
      "text/plain": [
       "        Name  Age  Score\n",
       "1      Bobby   27     87\n",
       "4      Rocky   31     55\n",
       "6   Jaqluine   25     76\n",
       "2   Cathrine   25     67\n",
       "3    Madonna   34     55\n",
       "5  Sebastian   27     72"
      ]
     },
     "execution_count": 111,
     "metadata": {},
     "output_type": "execute_result"
    }
   ],
   "source": [
    "af.iloc[:6] #6개 ,문자열 index 사용 불가 , np와 같음"
   ]
  },
  {
   "cell_type": "code",
   "execution_count": 113,
   "id": "1eae0c5f-3801-4669-987c-949a3bfdc762",
   "metadata": {},
   "outputs": [
    {
     "data": {
      "text/html": [
       "<div>\n",
       "<style scoped>\n",
       "    .dataframe tbody tr th:only-of-type {\n",
       "        vertical-align: middle;\n",
       "    }\n",
       "\n",
       "    .dataframe tbody tr th {\n",
       "        vertical-align: top;\n",
       "    }\n",
       "\n",
       "    .dataframe thead th {\n",
       "        text-align: right;\n",
       "    }\n",
       "</style>\n",
       "<table border=\"1\" class=\"dataframe\">\n",
       "  <thead>\n",
       "    <tr style=\"text-align: right;\">\n",
       "      <th></th>\n",
       "      <th>Name</th>\n",
       "    </tr>\n",
       "  </thead>\n",
       "  <tbody>\n",
       "    <tr>\n",
       "      <th>8</th>\n",
       "      <td>David</td>\n",
       "    </tr>\n",
       "    <tr>\n",
       "      <th>7</th>\n",
       "      <td>Rahul</td>\n",
       "    </tr>\n",
       "  </tbody>\n",
       "</table>\n",
       "</div>"
      ],
      "text/plain": [
       "    Name\n",
       "8  David\n",
       "7  Rahul"
      ]
     },
     "execution_count": 113,
     "metadata": {},
     "output_type": "execute_result"
    }
   ],
   "source": [
    "af2=af.sort_index(ascending=False) #내림차순 ==reserve=True\n",
    "af2.iloc[3:5, 0:1] #행 렬 다 추출 가능 , 숫자 사용"
   ]
  },
  {
   "cell_type": "code",
   "execution_count": 119,
   "id": "b9d7dccc-b46a-417b-8e84-e337843181d3",
   "metadata": {},
   "outputs": [
    {
     "data": {
      "text/html": [
       "<div>\n",
       "<style scoped>\n",
       "    .dataframe tbody tr th:only-of-type {\n",
       "        vertical-align: middle;\n",
       "    }\n",
       "\n",
       "    .dataframe tbody tr th {\n",
       "        vertical-align: top;\n",
       "    }\n",
       "\n",
       "    .dataframe thead th {\n",
       "        text-align: right;\n",
       "    }\n",
       "</style>\n",
       "<table border=\"1\" class=\"dataframe\">\n",
       "  <thead>\n",
       "    <tr style=\"text-align: right;\">\n",
       "      <th></th>\n",
       "      <th>Name</th>\n",
       "      <th>Age</th>\n",
       "      <th>Score</th>\n",
       "    </tr>\n",
       "  </thead>\n",
       "  <tbody>\n",
       "    <tr>\n",
       "      <th>11</th>\n",
       "      <td>Teresa</td>\n",
       "      <td>47</td>\n",
       "      <td>69</td>\n",
       "    </tr>\n",
       "    <tr>\n",
       "      <th>10</th>\n",
       "      <td>Ajay</td>\n",
       "      <td>51</td>\n",
       "      <td>89</td>\n",
       "    </tr>\n",
       "    <tr>\n",
       "      <th>9</th>\n",
       "      <td>Andrew</td>\n",
       "      <td>32</td>\n",
       "      <td>92</td>\n",
       "    </tr>\n",
       "    <tr>\n",
       "      <th>8</th>\n",
       "      <td>David</td>\n",
       "      <td>42</td>\n",
       "      <td>44</td>\n",
       "    </tr>\n",
       "    <tr>\n",
       "      <th>7</th>\n",
       "      <td>Rahul</td>\n",
       "      <td>33</td>\n",
       "      <td>79</td>\n",
       "    </tr>\n",
       "  </tbody>\n",
       "</table>\n",
       "</div>"
      ],
      "text/plain": [
       "      Name  Age  Score\n",
       "11  Teresa   47     69\n",
       "10    Ajay   51     89\n",
       "9   Andrew   32     92\n",
       "8    David   42     44\n",
       "7    Rahul   33     79"
      ]
     },
     "execution_count": 119,
     "metadata": {},
     "output_type": "execute_result"
    }
   ],
   "source": [
    "af2.loc[11:7,['Name','Age']] #행 렬 다 추출 가능 , index 사용 \n",
    "af2.loc[11:7,'Name':'Score'] #slicing 사용가능 "
   ]
  },
  {
   "cell_type": "code",
   "execution_count": 23,
   "id": "6fbc9d00-0f22-4469-a0d9-402bd7e37e3f",
   "metadata": {},
   "outputs": [
    {
     "data": {
      "text/plain": [
       "Name     Andrew\n",
       "Age          32\n",
       "Score        92\n",
       "Name: 9, dtype: object"
      ]
     },
     "execution_count": 23,
     "metadata": {},
     "output_type": "execute_result"
    }
   ],
   "source": [
    "af.iloc[af['Score'].argmax()]"
   ]
  },
  {
   "cell_type": "code",
   "execution_count": 121,
   "id": "89869707-a2d3-4b97-9199-e41ae6a2bf17",
   "metadata": {},
   "outputs": [
    {
     "data": {
      "text/plain": [
       "Name     Andrew\n",
       "Age          32\n",
       "Score        92\n",
       "Name: 9, dtype: object"
      ]
     },
     "execution_count": 121,
     "metadata": {},
     "output_type": "execute_result"
    }
   ],
   "source": [
    "af2.loc[af2['Score'].idxmax()]"
   ]
  },
  {
   "cell_type": "code",
   "execution_count": 101,
   "id": "bea75c2b-5a35-4b44-bfce-16e963410ce4",
   "metadata": {},
   "outputs": [
    {
     "data": {
      "text/plain": [
       "24970    140\n",
       "Name: LScore, dtype: int64"
      ]
     },
     "execution_count": 101,
     "metadata": {},
     "output_type": "execute_result"
    }
   ],
   "source": [
    "df.loc[[df['WScore'].idxmax()]]['LScore'] #이긴 팀의 점수가 가장 높은 경기에서 진 팀의 점수만 가져오고 싶다면 아래와 같이 쓴다. "
   ]
  },
  {
   "cell_type": "code",
   "execution_count": 99,
   "id": "eca0041d-27d7-4dec-b3c0-f992adbc3138",
   "metadata": {},
   "outputs": [
    {
     "data": {
      "text/plain": [
       "100027    49\n",
       "Name: WScore, dtype: int64"
      ]
     },
     "execution_count": 99,
     "metadata": {},
     "output_type": "execute_result"
    }
   ],
   "source": [
    "df.loc[[df['LScore'].idxmin()]]['WScore'] "
   ]
  },
  {
   "cell_type": "code",
   "execution_count": 97,
   "id": "9403823a-da5f-4d22-87eb-69a95aa97b61",
   "metadata": {},
   "outputs": [
    {
     "data": {
      "text/plain": [
       "49"
      ]
     },
     "execution_count": 97,
     "metadata": {},
     "output_type": "execute_result"
    }
   ],
   "source": [
    "df.loc[df['LScore'].idxmin()]['WScore']"
   ]
  },
  {
   "cell_type": "code",
   "execution_count": null,
   "id": "39cd94c9-de6a-4bb7-8e7a-7e56e079943c",
   "metadata": {},
   "outputs": [],
   "source": [
    "#df[df['LScore'] == df['LSocre'].min()]"
   ]
  },
  {
   "cell_type": "code",
   "execution_count": 123,
   "id": "549ac508-b4fd-44c2-8e41-be8a1df3311b",
   "metadata": {},
   "outputs": [
    {
     "data": {
      "text/plain": [
       "140"
      ]
     },
     "execution_count": 123,
     "metadata": {},
     "output_type": "execute_result"
    }
   ],
   "source": [
    "df.loc[df['WScore'].idxmax(), 'LScore']"
   ]
  },
  {
   "cell_type": "code",
   "execution_count": 29,
   "id": "264424be-8465-4ac1-8ed8-87566c05848f",
   "metadata": {},
   "outputs": [
    {
     "data": {
      "text/plain": [
       "140"
      ]
     },
     "execution_count": 29,
     "metadata": {},
     "output_type": "execute_result"
    }
   ],
   "source": [
    "df.iloc[df['WScore'].argmax(), 5]"
   ]
  },
  {
   "cell_type": "code",
   "execution_count": 117,
   "id": "abedfe0c-786b-4220-bca1-502d7b2fdc77",
   "metadata": {},
   "outputs": [
    {
     "data": {
      "text/html": [
       "<div>\n",
       "<style scoped>\n",
       "    .dataframe tbody tr th:only-of-type {\n",
       "        vertical-align: middle;\n",
       "    }\n",
       "\n",
       "    .dataframe tbody tr th {\n",
       "        vertical-align: top;\n",
       "    }\n",
       "\n",
       "    .dataframe thead th {\n",
       "        text-align: right;\n",
       "    }\n",
       "</style>\n",
       "<table border=\"1\" class=\"dataframe\">\n",
       "  <thead>\n",
       "    <tr style=\"text-align: right;\">\n",
       "      <th></th>\n",
       "      <th>Season</th>\n",
       "      <th>DayNum</th>\n",
       "      <th>WTeamID</th>\n",
       "      <th>WScore</th>\n",
       "      <th>LTeamID</th>\n",
       "      <th>LScore</th>\n",
       "      <th>WLoc</th>\n",
       "      <th>NumOT</th>\n",
       "    </tr>\n",
       "  </thead>\n",
       "  <tbody>\n",
       "    <tr>\n",
       "      <th>100027</th>\n",
       "      <td>2008</td>\n",
       "      <td>66</td>\n",
       "      <td>1203</td>\n",
       "      <td>49</td>\n",
       "      <td>1387</td>\n",
       "      <td>20</td>\n",
       "      <td>H</td>\n",
       "      <td>0</td>\n",
       "    </tr>\n",
       "    <tr>\n",
       "      <th>49310</th>\n",
       "      <td>1997</td>\n",
       "      <td>66</td>\n",
       "      <td>1157</td>\n",
       "      <td>61</td>\n",
       "      <td>1204</td>\n",
       "      <td>21</td>\n",
       "      <td>H</td>\n",
       "      <td>0</td>\n",
       "    </tr>\n",
       "    <tr>\n",
       "      <th>89021</th>\n",
       "      <td>2006</td>\n",
       "      <td>44</td>\n",
       "      <td>1284</td>\n",
       "      <td>41</td>\n",
       "      <td>1343</td>\n",
       "      <td>21</td>\n",
       "      <td>A</td>\n",
       "      <td>0</td>\n",
       "    </tr>\n",
       "    <tr>\n",
       "      <th>85042</th>\n",
       "      <td>2005</td>\n",
       "      <td>66</td>\n",
       "      <td>1131</td>\n",
       "      <td>73</td>\n",
       "      <td>1216</td>\n",
       "      <td>22</td>\n",
       "      <td>H</td>\n",
       "      <td>0</td>\n",
       "    </tr>\n",
       "    <tr>\n",
       "      <th>103660</th>\n",
       "      <td>2009</td>\n",
       "      <td>26</td>\n",
       "      <td>1326</td>\n",
       "      <td>59</td>\n",
       "      <td>1359</td>\n",
       "      <td>22</td>\n",
       "      <td>H</td>\n",
       "      <td>0</td>\n",
       "    </tr>\n",
       "  </tbody>\n",
       "</table>\n",
       "</div>"
      ],
      "text/plain": [
       "        Season  DayNum  WTeamID  WScore  LTeamID  LScore WLoc  NumOT\n",
       "100027    2008      66     1203      49     1387      20    H      0\n",
       "49310     1997      66     1157      61     1204      21    H      0\n",
       "89021     2006      44     1284      41     1343      21    A      0\n",
       "85042     2005      66     1131      73     1216      22    H      0\n",
       "103660    2009      26     1326      59     1359      22    H      0"
      ]
     },
     "execution_count": 117,
     "metadata": {},
     "output_type": "execute_result"
    }
   ],
   "source": [
    "df.sort_values('LScore').head() #내부에 기준값\n",
    "#값 저장 > 원본에 변경값 집어넣기 df= ~~~ or df.sort_values('LScore', inplace=True)"
   ]
  },
  {
   "cell_type": "code",
   "execution_count": null,
   "id": "3583228c-5885-48ec-85c5-62f516e5312c",
   "metadata": {},
   "outputs": [],
   "source": [
    "df[df['WScore'] > 150].head() # Boolean Series를 이용해 조건이 True인 행들만 추출"
   ]
  },
  {
   "cell_type": "code",
   "execution_count": null,
   "id": "0e3987f8-2d87-49e6-bcf5-c3b5e96240af",
   "metadata": {},
   "outputs": [],
   "source": []
  }
 ],
 "metadata": {
  "kernelspec": {
   "display_name": "Python 3 (ipykernel)",
   "language": "python",
   "name": "python3"
  },
  "language_info": {
   "codemirror_mode": {
    "name": "ipython",
    "version": 3
   },
   "file_extension": ".py",
   "mimetype": "text/x-python",
   "name": "python",
   "nbconvert_exporter": "python",
   "pygments_lexer": "ipython3",
   "version": "3.12.4"
  }
 },
 "nbformat": 4,
 "nbformat_minor": 5
}
