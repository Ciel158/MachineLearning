{
 "cells": [
  {
   "cell_type": "code",
   "execution_count": null,
   "id": "b62d95ab-dc60-4fae-9dc2-540a21176a94",
   "metadata": {},
   "outputs": [],
   "source": [
    "'''numpy>차원이 다양한 대신 내부 데이터 타입은 같다고 가정, Pandas>차원이 2차원(table), 내부 데이터 타입은 다양 \n",
    "2차원 테이블> 열:데이터 타입에 대한 설명 행:각 값을 구분\n",
    "다음과 같이 import해서 쓴다.\n",
    "'''\n",
    "import pandas as pd\n",
    "\n",
    "#Series: 인덱스(index)가 있는 1차원 배열\n",
    "s = pd.Series([1, 3, 5, 7, 9])\n",
    "print(s)\n",
    "print(s[2]) #indexing >앞의 값, 인덱스 자동 생성\n",
    "\n",
    "# dictionary를 이용해 만들기\n",
    "dic = {'a':1, 'b':3, 'c':5}\n",
    "s = pd.Series(dic)\n",
    "print(s)\n",
    "print(s['b']) #indexing\n",
    "\n",
    "#dic이랑 series가 비슷함\n",
    "\n",
    "#딕셔너리와 다른 점: 순서가 있다!\n",
    "s = pd.Series([1,3,5,7,9], index=['LGT','DOO','HWE','LOT','SKW'])\n",
    "#print(s)\n",
    "#print(s['LOT'])\n",
    "print(s[:'LOT']) # 슬라이싱에서 어디까지 나오는지 주목\n",
    "\n",
    "# 시리즈를 딕셔너리로 변환\n",
    "d = s.to_dict()\n",
    "print(type(d), d)"
   ]
  },
  {
   "cell_type": "code",
   "execution_count": null,
   "id": "5b7323b2-255d-4554-a460-be1102c70a3f",
   "metadata": {},
   "outputs": [],
   "source": [
    "'''데이터 프레임은 우리에게 친숙한 2차원 표와 같은 형태로 생각하면 된다.\n",
    "행(row)과 열(column)으로 이루어져 있으며, 각 열에는 name이 있고 행에는 index가 있다.'''\n",
    "\n",
    "score={'학번':[201700013,201600023,201600033],\n",
    "       '이름':['변사또','이몽룡','성춘향'],\n",
    "       '퀴즈':[15,20,10],\n",
    "       '중간고사':[20,20,15]}\n",
    "\n",
    "score_df= pd.DataFrame(score)\n",
    "score_df\n",
    "\n",
    "#행>index 열>열 이름 series로 뜯으면 행>index가 index col>colname이 index \n",
    "\n",
    "print(type(score_df['학번'])) #colname을 키로 받음\n",
    "score_df['학번'] #series로 뜯어온 거\n",
    "#score_df[['학번']] #data frame으로 뜯어온 거\n",
    "#>> 타입이 다름 \n",
    "\n",
    "#score_df[0] #key 오류 / colname이 default \n",
    "#score_df[['학번','Quiz']] 여러값을 원하면 리스트에 넣고 요청해야함 "
   ]
  },
  {
   "cell_type": "code",
   "execution_count": null,
   "id": "118583dd-f4f3-4f54-9f3d-34eef7c88eff",
   "metadata": {},
   "outputs": [],
   "source": [
    "'''행 추가하기\n",
    "loc를 이용해서 추가가 가능\n",
    "단 행의 인덱스가 0부터 시작해서 순차적으로 더해진 경우에 아래와 같이 할 수 있음 append 지원안함 comcat'''\n",
    "print(len(score_df))\n",
    "score_df.loc[len(score_df)] = [201700002, '이몽룡', 17, 17]\n",
    "score_df"
   ]
  }
 ],
 "metadata": {
  "kernelspec": {
   "display_name": "Python 3 (ipykernel)",
   "language": "python",
   "name": "python3"
  },
  "language_info": {
   "codemirror_mode": {
    "name": "ipython",
    "version": 3
   },
   "file_extension": ".py",
   "mimetype": "text/x-python",
   "name": "python",
   "nbconvert_exporter": "python",
   "pygments_lexer": "ipython3",
   "version": "3.12.4"
  }
 },
 "nbformat": 4,
 "nbformat_minor": 5
}
