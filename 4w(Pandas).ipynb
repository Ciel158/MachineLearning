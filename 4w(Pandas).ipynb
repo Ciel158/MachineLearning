{
 "cells": [
  {
   "cell_type": "code",
   "execution_count": null,
   "id": "b62d95ab-dc60-4fae-9dc2-540a21176a94",
   "metadata": {},
   "outputs": [],
   "source": [
    "'''numpy>차원이 다양한 대신 내부 데이터 타입은 같다고 가정, Pandas>차원이 2차원(table), 내부 데이터 타입은 다양 \n",
    "2차원 테이블> 열:데이터 타입에 대한 설명 행:각 값을 구분\n",
    "다음과 같이 import해서 쓴다.'''\n",
    "import pandas as pd"
   ]
  }
 ],
 "metadata": {
  "kernelspec": {
   "display_name": "Python 3 (ipykernel)",
   "language": "python",
   "name": "python3"
  },
  "language_info": {
   "codemirror_mode": {
    "name": "ipython",
    "version": 3
   },
   "file_extension": ".py",
   "mimetype": "text/x-python",
   "name": "python",
   "nbconvert_exporter": "python",
   "pygments_lexer": "ipython3",
   "version": "3.12.4"
  }
 },
 "nbformat": 4,
 "nbformat_minor": 5
}
