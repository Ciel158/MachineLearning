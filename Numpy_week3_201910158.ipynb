{
 "cells": [
  {
   "cell_type": "code",
   "execution_count": 190,
   "id": "da632f5e-9ce7-4217-bd02-bf4f6afb55d1",
   "metadata": {},
   "outputs": [],
   "source": [
    "import numpy as np"
   ]
  },
  {
   "cell_type": "code",
   "execution_count": 192,
   "id": "badac01d-4368-47f5-96b3-977b7187ddde",
   "metadata": {},
   "outputs": [],
   "source": [
    "#1\n",
    "a = np.zeros((3,4))"
   ]
  },
  {
   "cell_type": "code",
   "execution_count": 194,
   "id": "b6f65b47-2674-4eda-8f5a-67be61ba6c23",
   "metadata": {},
   "outputs": [],
   "source": [
    "#2\n",
    "z=0\n",
    "for i in range(len(a)) :\n",
    "    for j in range(len(a[i])):\n",
    "        z+=1\n",
    "        a[i,j] = z\n",
    "print(a)"
   ]
  },
  {
   "cell_type": "code",
   "execution_count": 196,
   "id": "1c5226a1-c374-4df2-91a9-5c30e684ed22",
   "metadata": {},
   "outputs": [
    {
     "name": "stdout",
     "output_type": "stream",
     "text": [
      "7.0\n"
     ]
    }
   ],
   "source": [
    "#3\n",
    "print(a[1,2])"
   ]
  },
  {
   "cell_type": "code",
   "execution_count": 198,
   "id": "dd104e55-0395-4940-a2d9-0561cf59d963",
   "metadata": {},
   "outputs": [
    {
     "name": "stdout",
     "output_type": "stream",
     "text": [
      "[[5. 6. 7. 8.]]\n"
     ]
    }
   ],
   "source": [
    "#4\n",
    "print(a[1:2, :])"
   ]
  },
  {
   "cell_type": "code",
   "execution_count": 204,
   "id": "c9a6f21f-5d5f-4861-80a1-50e40b1978df",
   "metadata": {},
   "outputs": [
    {
     "name": "stdout",
     "output_type": "stream",
     "text": [
      "[[ 2.  3.]\n",
      " [ 6.  7.]\n",
      " [10. 11.]]\n"
     ]
    }
   ],
   "source": [
    "#5\n",
    "print(a[:,1:3])"
   ]
  },
  {
   "cell_type": "code",
   "execution_count": 200,
   "id": "bc39b27c-697b-4890-922e-d450bb88818b",
   "metadata": {},
   "outputs": [
    {
     "name": "stdout",
     "output_type": "stream",
     "text": [
      "[1. 2. 3. 4. 5. 6.]\n"
     ]
    }
   ],
   "source": [
    "#6\n",
    "print(a[a<=6])"
   ]
  },
  {
   "cell_type": "code",
   "execution_count": 238,
   "id": "b35948b9-3ba7-45aa-b9cb-68c7418f910e",
   "metadata": {},
   "outputs": [
    {
     "name": "stdout",
     "output_type": "stream",
     "text": [
      "[[0.07630829 0.77991879 0.43840923 0.72346518]\n",
      " [0.97798951 0.53849587 0.50112046 0.07205113]\n",
      " [0.26843898 0.4998825  0.67923    0.80373904]]\n"
     ]
    }
   ],
   "source": [
    "#7\n",
    "np.random.seed(7)\n",
    "b=np.random.random((3,4))\n",
    "print(b)"
   ]
  },
  {
   "cell_type": "code",
   "execution_count": 240,
   "id": "2dd61144-5258-4d94-b0a7-728732a5b949",
   "metadata": {},
   "outputs": [
    {
     "name": "stdout",
     "output_type": "stream",
     "text": [
      "[[0.07630829 1.55983758 1.31522769 2.89386071]\n",
      " [4.88994756 3.23097522 3.50784325 0.57640907]\n",
      " [2.41595082 4.99882501 7.47152996 9.64486843]]\n"
     ]
    }
   ],
   "source": [
    "#8\n",
    "c=a*b\n",
    "print(c)"
   ]
  },
  {
   "cell_type": "code",
   "execution_count": 252,
   "id": "6ac60b2b-9ec7-41ac-9ff5-637991b14bbb",
   "metadata": {},
   "outputs": [
    {
     "name": "stdout",
     "output_type": "stream",
     "text": [
      "[[0.07630829 0.97798951 0.26843898]\n",
      " [0.77991879 0.53849587 0.4998825 ]\n",
      " [0.43840923 0.50112046 0.67923   ]\n",
      " [0.72346518 0.07205113 0.80373904]]\n"
     ]
    }
   ],
   "source": [
    "#9\n",
    "d=b.T\n",
    "print(d)"
   ]
  },
  {
   "cell_type": "code",
   "execution_count": 254,
   "id": "878c6602-ab35-4853-acc5-53c838a9e79e",
   "metadata": {},
   "outputs": [
    {
     "name": "stdout",
     "output_type": "stream",
     "text": [
      "(3, 4)\n",
      "(4, 3)\n"
     ]
    }
   ],
   "source": [
    "#10\n",
    "print(a.shape)\n",
    "print(d.shape)"
   ]
  },
  {
   "cell_type": "code",
   "execution_count": 256,
   "id": "4b233e61-0d4d-4263-a382-3a99d4264de5",
   "metadata": {},
   "outputs": [
    {
     "name": "stdout",
     "output_type": "stream",
     "text": [
      "[[ 5.84523428  3.84654718  6.52085011]\n",
      " [13.91764024 12.20517509 15.52601217]\n",
      " [21.99004621 20.56380301 24.53117422]]\n"
     ]
    }
   ],
   "source": [
    "#11\n",
    "e=np.dot(a, d)\n",
    "print(e)"
   ]
  },
  {
   "cell_type": "code",
   "execution_count": 258,
   "id": "0643ec28-dcdd-41dd-ae39-bd6a3d6062aa",
   "metadata": {},
   "outputs": [
    {
     "name": "stdout",
     "output_type": "stream",
     "text": [
      "[41.75292073 36.61552528 46.5780365 ]\n"
     ]
    }
   ],
   "source": [
    "#12\n",
    "print(np.sum(e, axis=0))"
   ]
  },
  {
   "cell_type": "code",
   "execution_count": null,
   "id": "8d8beacc-cbbc-4949-87ba-5f2182b35321",
   "metadata": {},
   "outputs": [],
   "source": []
  }
 ],
 "metadata": {
  "kernelspec": {
   "display_name": "Python 3 (ipykernel)",
   "language": "python",
   "name": "python3"
  },
  "language_info": {
   "codemirror_mode": {
    "name": "ipython",
    "version": 3
   },
   "file_extension": ".py",
   "mimetype": "text/x-python",
   "name": "python",
   "nbconvert_exporter": "python",
   "pygments_lexer": "ipython3",
   "version": "3.12.4"
  }
 },
 "nbformat": 4,
 "nbformat_minor": 5
}
